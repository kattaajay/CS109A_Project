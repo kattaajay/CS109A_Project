{
 "cells": [
  {
   "cell_type": "markdown",
   "metadata": {},
   "source": [
    "# Literature Review and Related Work"
   ]
  },
  {
   "cell_type": "markdown",
   "metadata": {
    "collapsed": true
   },
   "source": [
    "Before exploring with different modeling methods on the sloped walking Hip-Only system data, we reviewed relevant literature in this field. In general, many different classification models have been succesfully adapted to this field, and below are a few highlights."
   ]
  },
  {
   "cell_type": "markdown",
   "metadata": {},
   "source": [
    "### 1. Support vector machine for classification of walking conditions using miniature kinematic sensors\n",
    "Hong-yin Lau, Kai-yu Tong, Hailong Zhu, Support vector machine for classification of walking conditions of persons after stroke with dropped foot, In Human Movement Science, Volume 28, Issue 4, 2009, Pages 504-514, ISSN 0167-9457, https://doi.org/10.1016/j.humov.2008.12.003."
   ]
  },
  {
   "cell_type": "markdown",
   "metadata": {},
   "source": [
    "In this work, shank and foot accelerometer and gyroscope were used to classify walking into 5 walking conditions: uphill, downhill, stair ascent, stair descent, and level ground walking. The data is assembled from 10 gait cycles of each walking condition collected at speeds ranging from 1.4 m/s to 1.47 m/s. Particuarly, preswing phase signals were used to make the classifications. The data was pre-processed using a butterworht filter and maximums and minimums of each sensor signal were extracted as separate predictors. \n",
    "\n",
    "The authors built a support vector classifier which out performed other popular methods, such as artificial neural network and Baysian belief network. A SVM classifier was chosen because it is flexible and can adjust the balance between variance and bias by adjust the margin. Using RBF kernel also allowed data to be mapped on to higher dimensional space. The optimal hyperparameters were chosen using kFold cross validation.\n",
    "\n",
    "In conclusion, the stair ascent and descent classification accuracies were 100%, and the authors noted that adding foot gyros improved the classification rate from 78% to 84%."
   ]
  },
  {
   "cell_type": "markdown",
   "metadata": {},
   "source": [
    "### 2. Can Triaxial Accelerometry Accurately Recognize Inclined Walking Terrains?\n",
    "N. Wang, S. J. Redmond, E. Ambikairajah, B. G. Celler and N. H. Lovell, \"Can Triaxial Accelerometry Accurately Recognize Inclined Walking Terrains?,\" in IEEE Transactions on Biomedical Engineering, vol. 57, no. 10, pp. 2506-2516, Oct. 2010."
   ]
  },
  {
   "cell_type": "markdown",
   "metadata": {},
   "source": [
    "In this work, a Gaussian Mixture Model was used to predict 7 different gradient surfaces. 12 subjects were tested in total and a set of 13 features were extracted for prediction. \n",
    "\n",
    "During walking experiments, a single triaxial accelerometer was placed at the waist, and video recordings were collected for segmenting the gait in post processing. The subjects were instructed to walk on paved ground or wair way. Each subject walked with their preferrered step length but at a constant step rate fixed by a metronome.\n",
    "\n",
    "The 13 features were extracted from a variable length analysis window (approximately 3.46 seconds). Both global features, such as zero crossings and pairwise crossing relationships, and local features, such as heel strike timings, were used for prediction.\n",
    "\n",
    "For the GMM, the optimal number of Gaussian functions required was determined to be 4. 100 iterations were used to maximize the expectation in training. The performance of the classifier was also evaluated using six-fold cross-validation. The data was divided into subsets without spliting data from each subject. \n",
    "\n",
    "Some of features used in this classification are reliant on accurate gait segmentation from motion anlysis, thus a separate gait segmentation algorithm was presented to validfy the feasibility of the slope classifier out of a laboratory."
   ]
  },
  {
   "cell_type": "markdown",
   "metadata": {},
   "source": [
    "### 3. Accelerometry Based Classification of Walking Patterns Using Time-frequency Analysis\n",
    "\n",
    "N. Wang, E. Ambikairajah, N. H. Lovell and B. G. Celler, \"Accelerometry Based Classification of Walking Patterns Using Time-frequency Analysis,\" 2007 29th Annual International Conference of the IEEE Engineering in Medicine and Biology Society, Lyon, 2007, pp. 4899-4902."
   ]
  },
  {
   "cell_type": "markdown",
   "metadata": {},
   "source": [
    "The goal of this research is to classify 5 walking conditions, including stair ascent, stair descent, uphill, downhill and level ground. The method used is Multi-layer perception (MLP) neural networks (NNs) classifier. The result of the classifier showed quite high accurarcy: 88% for Round Robin train-test method and 92.05% for Random frame selecting train-test method."
   ]
  },
  {
   "cell_type": "markdown",
   "metadata": {},
   "source": [
    "### 4. Classification of Walking Patterns on Inclined Surfaces from Accelerometry Data\n",
    "\n",
    "N. Wang, E. Ambikairajah, S. J. Redmond, B. G. Celler and N. H. Lovell, \"Classification of walking patterns on inclined surfaces from accelerometry data,\" 2009 16th International Conference on Digital Signal Processing, Santorini-Hellas, 2009, pp. 1-4."
   ]
  },
  {
   "cell_type": "markdown",
   "metadata": {},
   "source": [
    "The goal of this research is to present a classification method to distinguish between 4 different gradient surfaces, 4.8% uphill, 4.8% downhill, 17.3% uphill and 17.3% downhill. Data of flat ground walking was also collected to provide a baseline example of eah subject's gait. The baseline was also used to normalize the data collected on gradient surfaces.\n",
    "\n",
    "Using a GMM model on data from 12 participants, a classification accuracy of 90.9% was achieved."
   ]
  },
  {
   "cell_type": "markdown",
   "metadata": {},
   "source": [
    "### 5. A New Adaptive Frequency Oscillator for Gait Assistance\n",
    "\n",
    "Keehong Seo, SeungYong Hyung, Byung Kwon Choi, Younbaek Lee and Youngbo Shim, \"A new adaptive frequency oscillator for gait assistance,\" 2015 IEEE International Conference on Robotics and Automation (ICRA), Seattle, WA, 2015, pp. 5565-5571."
   ]
  },
  {
   "cell_type": "markdown",
   "metadata": {},
   "source": [
    "A adaptive frequency oscillator was developed to estimate gait cycle from foot contact sensors. This information is beneficial for controling exoskeletons for walking gait asistance in order to devliver synchronous assistance. \n",
    "\n",
    "Although walking slope estimation was not the main goal of this research, controller uses estimated slope to interpolate asistance torque profiles. The joint angle trajecteries, and cadence estimate by the adaptive frequency controller are used to estimate the walking slope and speed. The walking speed is predicted using a regression model using acceleration ata."
   ]
  },
  {
   "cell_type": "code",
   "execution_count": null,
   "metadata": {
    "collapsed": true
   },
   "outputs": [],
   "source": []
  }
 ],
 "metadata": {
  "kernelspec": {
   "display_name": "Python 3",
   "language": "python",
   "name": "python3"
  },
  "language_info": {
   "codemirror_mode": {
    "name": "ipython",
    "version": 3
   },
   "file_extension": ".py",
   "mimetype": "text/x-python",
   "name": "python",
   "nbconvert_exporter": "python",
   "pygments_lexer": "ipython3",
   "version": "3.6.1"
  }
 },
 "nbformat": 4,
 "nbformat_minor": 2
}
