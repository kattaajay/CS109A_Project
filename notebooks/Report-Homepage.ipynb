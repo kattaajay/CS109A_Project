{
 "cells": [
  {
   "cell_type": "code",
   "execution_count": 1,
   "metadata": {
    "collapsed": true
   },
   "outputs": [],
   "source": [
    "# Walking Slope Detection"
   ]
  },
  {
   "cell_type": "markdown",
   "metadata": {},
   "source": [
    "# Walking Slope Detection:"
   ]
  },
  {
   "cell_type": "markdown",
   "metadata": {},
   "source": [
    "# Motivation:"
   ]
  },
  {
   "cell_type": "markdown",
   "metadata": {},
   "source": [
    "Predicting and classifying human motion using wearable sensors have a wide variety of applications. These applications span from development of entertainment technology to assistive devices. One particularly interesting use case is in combining an gait classification model with soft exoskeletons in order to determine the best types of assistance at different walking or running conditions. In particular, the necessary assistance to the hip joint is highly dependent on the walking slope. In this project, we aim to develop a walking slope classifer.\n",
    "\n",
    "Currently the hip-only soft exoskeleton suit from Harvard Biodesign Lab uses foot IMUs to estimate the slope of the ground; however, it would be preferred to remove this sensor in the suit to reduce suit complexity and donning time. There are other parameters the system collects, such as torso orientation and thigh angles, that could be used to predict walking slope. Our project aims to explore this possibility and build the best predictor possible using the data available."
   ]
  },
  {
   "cell_type": "markdown",
   "metadata": {},
   "source": [
    "# Project Statement:"
   ]
  },
  {
   "cell_type": "markdown",
   "metadata": {},
   "source": [
    "How to predict walking slope using Hip-Only exosuit data with no foot IMU?\n",
    "1. solve as a classification problem of classifying flat ground, uphill or downhill. \n",
    "2. solve as a regression problem to estimate the exact walking slope and a classification problem with 7 classes at discrete slopes. Compare the performance of the two methods."
   ]
  },
  {
   "cell_type": "markdown",
   "metadata": {},
   "source": [
    "# At-a-glance:"
   ]
  },
  {
   "cell_type": "markdown",
   "metadata": {},
   "source": [
    "### Literature and Relevant Work"
   ]
  },
  {
   "cell_type": "markdown",
   "metadata": {},
   "source": [
    "### Description of Data and EDA"
   ]
  },
  {
   "cell_type": "markdown",
   "metadata": {},
   "source": [
    "### Models Used"
   ]
  },
  {
   "cell_type": "markdown",
   "metadata": {},
   "source": [
    "### Conclusion and Future Work"
   ]
  },
  {
   "cell_type": "code",
   "execution_count": null,
   "metadata": {
    "collapsed": true
   },
   "outputs": [],
   "source": []
  }
 ],
 "metadata": {
  "kernelspec": {
   "display_name": "Python 3",
   "language": "python",
   "name": "python3"
  },
  "language_info": {
   "codemirror_mode": {
    "name": "ipython",
    "version": 3
   },
   "file_extension": ".py",
   "mimetype": "text/x-python",
   "name": "python",
   "nbconvert_exporter": "python",
   "pygments_lexer": "ipython3",
   "version": "3.6.1"
  }
 },
 "nbformat": 4,
 "nbformat_minor": 2
}
